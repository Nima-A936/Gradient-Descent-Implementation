{
 "cells": [
  {
   "cell_type": "code",
   "execution_count": 67,
   "id": "057b2c30-5efc-4cd1-bf83-2ca4c9e43ff2",
   "metadata": {},
   "outputs": [],
   "source": [
    "import numpy as np\n",
    "import pandas as pd"
   ]
  },
  {
   "cell_type": "code",
   "execution_count": 68,
   "id": "6a5f0687-187e-46fa-a25c-1019bcdde935",
   "metadata": {},
   "outputs": [],
   "source": [
    "x = np.array([[0,0],[1,1],[2,2],[3,3],[4,4]])\n",
    "y = np.array([0,2,4,6,8])"
   ]
  },
  {
   "cell_type": "code",
   "execution_count": 69,
   "id": "5538fd51-1a8c-485d-ac79-842adb87b082",
   "metadata": {},
   "outputs": [],
   "source": [
    "df = pd.DataFrame(x)\n",
    "df = df.rename(columns={0 : \"1st_Digit\" , 1 : \"2nd_Digit\" })\n",
    "df[\"Sums\"] = y"
   ]
  },
  {
   "cell_type": "code",
   "execution_count": 70,
   "id": "91f3e1cc-471e-4d68-9499-beb5cb7d11d7",
   "metadata": {},
   "outputs": [
    {
     "data": {
      "text/html": [
       "<div>\n",
       "<style scoped>\n",
       "    .dataframe tbody tr th:only-of-type {\n",
       "        vertical-align: middle;\n",
       "    }\n",
       "\n",
       "    .dataframe tbody tr th {\n",
       "        vertical-align: top;\n",
       "    }\n",
       "\n",
       "    .dataframe thead th {\n",
       "        text-align: right;\n",
       "    }\n",
       "</style>\n",
       "<table border=\"1\" class=\"dataframe\">\n",
       "  <thead>\n",
       "    <tr style=\"text-align: right;\">\n",
       "      <th></th>\n",
       "      <th>1st_Digit</th>\n",
       "      <th>2nd_Digit</th>\n",
       "      <th>Sums</th>\n",
       "    </tr>\n",
       "  </thead>\n",
       "  <tbody>\n",
       "    <tr>\n",
       "      <th>0</th>\n",
       "      <td>0</td>\n",
       "      <td>0</td>\n",
       "      <td>0</td>\n",
       "    </tr>\n",
       "    <tr>\n",
       "      <th>1</th>\n",
       "      <td>1</td>\n",
       "      <td>1</td>\n",
       "      <td>2</td>\n",
       "    </tr>\n",
       "    <tr>\n",
       "      <th>2</th>\n",
       "      <td>2</td>\n",
       "      <td>2</td>\n",
       "      <td>4</td>\n",
       "    </tr>\n",
       "    <tr>\n",
       "      <th>3</th>\n",
       "      <td>3</td>\n",
       "      <td>3</td>\n",
       "      <td>6</td>\n",
       "    </tr>\n",
       "    <tr>\n",
       "      <th>4</th>\n",
       "      <td>4</td>\n",
       "      <td>4</td>\n",
       "      <td>8</td>\n",
       "    </tr>\n",
       "  </tbody>\n",
       "</table>\n",
       "</div>"
      ],
      "text/plain": [
       "   1st_Digit  2nd_Digit  Sums\n",
       "0          0          0     0\n",
       "1          1          1     2\n",
       "2          2          2     4\n",
       "3          3          3     6\n",
       "4          4          4     8"
      ]
     },
     "execution_count": 70,
     "metadata": {},
     "output_type": "execute_result"
    }
   ],
   "source": [
    "df"
   ]
  },
  {
   "cell_type": "code",
   "execution_count": 71,
   "id": "d327d56d-e871-4a9d-ada5-a1df1a4cc9ec",
   "metadata": {},
   "outputs": [],
   "source": [
    "def cost_function(x,y,w,b):\n",
    "    m = len(x)\n",
    "    f = 0\n",
    "    for j in range(m):\n",
    "        f += 1/(2*m)*(np.dot(x[j],w) + b - y[j])**2\n",
    "    return f"
   ]
  },
  {
   "cell_type": "code",
   "execution_count": 72,
   "id": "a043bbb8-1741-4cc4-9058-0a59d8228ec9",
   "metadata": {},
   "outputs": [],
   "source": [
    "def derivative(x,y,w,b):\n",
    "    m = len(x)\n",
    "    w_j = np.zeros_like(w)\n",
    "    w_b = 0\n",
    "    for i in range(m):\n",
    "        w_j += 1/(m)*(np.dot(x[i],w) + b - y[i])*x[i]\n",
    "        b_j = 1/(m)*(np.dot(x[i],w) + b - y[i])\n",
    "    return w_j , b_j"
   ]
  },
  {
   "cell_type": "code",
   "execution_count": 73,
   "id": "41010ddc-5061-4c08-96c7-7a25e23f5b42",
   "metadata": {},
   "outputs": [],
   "source": [
    "def gradient_descent(x,y,w,b,alpha,rep):\n",
    "    for i in range(rep):\n",
    "        w_j , b_j = derivative(x,y,w,b)\n",
    "        w -= alpha * w_j\n",
    "        b -= alpha * b_j\n",
    "    return w , b"
   ]
  },
  {
   "cell_type": "code",
   "execution_count": 74,
   "id": "aaaae2fe-8714-4eec-beeb-7856dbd13910",
   "metadata": {},
   "outputs": [],
   "source": [
    "w_int = np.ones(x.shape[1])\n",
    "b_int = 0\n",
    "alpha = 0.01\n",
    "rep = 1000"
   ]
  },
  {
   "cell_type": "code",
   "execution_count": 75,
   "id": "4915cb1e-56a5-48a5-9b37-8024730b034c",
   "metadata": {},
   "outputs": [
    {
     "name": "stdout",
     "output_type": "stream",
     "text": [
      "Weights : [1. 1.] , Bias : 0.0 😎 \n",
      "Cost : 0.0 😎\n"
     ]
    }
   ],
   "source": [
    "w_final , b_final = gradient_descent(x,y,w_int,b_int,alpha,rep)\n",
    "pred = w_final , b_final\n",
    "cost = cost_function(x,y,w_int,b_int)\n",
    "print(f\"Weights : {w_final} , Bias : {b_final} 😎 \")\n",
    "print(f\"Cost : {cost} 😎\")"
   ]
  },
  {
   "cell_type": "code",
   "execution_count": 76,
   "id": "8da42660-7903-496e-aba9-5cf7fb484924",
   "metadata": {},
   "outputs": [],
   "source": [
    "def prediction(x1,x2,w,b):\n",
    "    return (np.dot([x1,x2],w)+b)"
   ]
  },
  {
   "cell_type": "code",
   "execution_count": 77,
   "id": "70c1cf55-7cd5-4076-a8de-44ca74b572dc",
   "metadata": {},
   "outputs": [],
   "source": [
    "def get_input():\n",
    "    x1 = float(input(\"Number1 : \"))\n",
    "    x2 = float(input(\"Number2 : \"))\n",
    "    predict = prediction(x1,x2,w_final,b_final)\n",
    "    print(f\"{x1} + {x2} = {predict} 😎\")"
   ]
  },
  {
   "cell_type": "code",
   "execution_count": 78,
   "id": "40ff317d-7af7-48e2-a8f6-b629cb754637",
   "metadata": {},
   "outputs": [
    {
     "name": "stdin",
     "output_type": "stream",
     "text": [
      "Number1 :  3\n",
      "Number2 :  4\n"
     ]
    },
    {
     "name": "stdout",
     "output_type": "stream",
     "text": [
      "3.0 + 4.0 = 7.0 😎\n"
     ]
    }
   ],
   "source": [
    "get_input()"
   ]
  },
  {
   "cell_type": "code",
   "execution_count": 79,
   "id": "eb771fe9-1af9-4712-b7cf-cd54a6e0832f",
   "metadata": {},
   "outputs": [],
   "source": [
    "y_pred = np.dot(x,w_final) + b_final"
   ]
  },
  {
   "cell_type": "code",
   "execution_count": 80,
   "id": "5bb73897-a516-44ce-919d-de2285d4b198",
   "metadata": {},
   "outputs": [],
   "source": [
    "def mean_squared_error(y_true, y_pred):\n",
    "    n = len(y_true)\n",
    "    squared_diffs = sum((y_true[i] - y_pred[i]) ** 2 for i in range(n))\n",
    "    mse = squared_diffs / n\n",
    "    return mse"
   ]
  },
  {
   "cell_type": "code",
   "execution_count": 81,
   "id": "119f6d5b-7481-4bbb-b113-a5686f5e1834",
   "metadata": {},
   "outputs": [],
   "source": [
    "mse_value = mean_squared_error(y, y_pred)"
   ]
  },
  {
   "cell_type": "code",
   "execution_count": 82,
   "id": "398ec7c9-27e8-4d4e-bd1a-3facce5da08e",
   "metadata": {},
   "outputs": [
    {
     "name": "stdout",
     "output_type": "stream",
     "text": [
      "mean_squared_error : 0.0 😎\n"
     ]
    }
   ],
   "source": [
    "print(f\"mean_squared_error : {mse_value} 😎\")"
   ]
  },
  {
   "cell_type": "code",
   "execution_count": null,
   "id": "8756f551-9189-4404-8f35-edea2518d36a",
   "metadata": {},
   "outputs": [],
   "source": []
  }
 ],
 "metadata": {
  "kernelspec": {
   "display_name": "Python 3 (ipykernel)",
   "language": "python",
   "name": "python3"
  },
  "language_info": {
   "codemirror_mode": {
    "name": "ipython",
    "version": 3
   },
   "file_extension": ".py",
   "mimetype": "text/x-python",
   "name": "python",
   "nbconvert_exporter": "python",
   "pygments_lexer": "ipython3",
   "version": "3.11.4"
  }
 },
 "nbformat": 4,
 "nbformat_minor": 5
}
